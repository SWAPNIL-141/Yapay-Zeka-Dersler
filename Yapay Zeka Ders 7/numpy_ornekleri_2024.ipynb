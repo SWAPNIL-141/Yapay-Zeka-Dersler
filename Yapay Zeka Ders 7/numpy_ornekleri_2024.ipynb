{
  "nbformat": 4,
  "nbformat_minor": 0,
  "metadata": {
    "colab": {
      "provenance": []
    },
    "kernelspec": {
      "name": "python3",
      "display_name": "Python 3"
    },
    "language_info": {
      "name": "python"
    }
  },
  "cells": [
    {
      "cell_type": "code",
      "execution_count": 8,
      "metadata": {
        "colab": {
          "base_uri": "https://localhost:8080/"
        },
        "id": "lCnW-4ykFmFs",
        "outputId": "cf4af425-4772-4711-952f-9da2e5c63d42"
      },
      "outputs": [
        {
          "output_type": "execute_result",
          "data": {
            "text/plain": [
              "array([ 1,  2,  3,  3, 14])"
            ]
          },
          "metadata": {},
          "execution_count": 8
        }
      ],
      "source": [
        "import numpy as np\n",
        "np.array([1,2,3])\n",
        "a=np.array([1,2,3])\n",
        "dizi=np.array([1,2,3,3.14])\n",
        "dizi\n",
        "dizi=np.array([1,2,3,3,14],dtype=int)\n",
        "dizi"
      ]
    },
    {
      "cell_type": "markdown",
      "source": [
        "1) 1,2,3,4,5 Liste"
      ],
      "metadata": {
        "id": "f8GT6cwxIBFp"
      }
    },
    {
      "cell_type": "code",
      "source": [
        "result=np.array([1,2,3,4,5])\n",
        "result"
      ],
      "metadata": {
        "colab": {
          "base_uri": "https://localhost:8080/"
        },
        "id": "Yl6IIo7FOvIg",
        "outputId": "eef3cd59-cece-4ee7-ec44-2a3bef8fce15"
      },
      "execution_count": 13,
      "outputs": [
        {
          "output_type": "execute_result",
          "data": {
            "text/plain": [
              "array([1, 2, 3, 4, 5])"
            ]
          },
          "metadata": {},
          "execution_count": 13
        }
      ]
    },
    {
      "cell_type": "markdown",
      "source": [
        "2) 1,15 arası otomatik oluşturma"
      ],
      "metadata": {
        "id": "cLoYcU0yO6IC"
      }
    },
    {
      "cell_type": "code",
      "source": [
        "result=np.arange(1,16)\n",
        "result"
      ],
      "metadata": {
        "colab": {
          "base_uri": "https://localhost:8080/"
        },
        "id": "zAuaUoXkPBzR",
        "outputId": "b79d0910-f33c-42a3-b405-91d2eb23472b"
      },
      "execution_count": 15,
      "outputs": [
        {
          "output_type": "execute_result",
          "data": {
            "text/plain": [
              "array([ 1,  2,  3,  4,  5,  6,  7,  8,  9, 10, 11, 12, 13, 14, 15])"
            ]
          },
          "metadata": {},
          "execution_count": 15
        }
      ]
    },
    {
      "cell_type": "markdown",
      "source": [
        "3)50-100 arası 5 er 5 er artacak dizi"
      ],
      "metadata": {
        "id": "Rqc6jjZ-PFJ5"
      }
    },
    {
      "cell_type": "code",
      "source": [
        "result=np.arange(50,101,5)\n",
        "result"
      ],
      "metadata": {
        "colab": {
          "base_uri": "https://localhost:8080/"
        },
        "id": "w0gqHrErPLbq",
        "outputId": "ea5169bc-768d-43b1-91ec-7422c2989da2"
      },
      "execution_count": 14,
      "outputs": [
        {
          "output_type": "execute_result",
          "data": {
            "text/plain": [
              "array([ 50,  55,  60,  65,  70,  75,  80,  85,  90,  95, 100])"
            ]
          },
          "metadata": {},
          "execution_count": 14
        }
      ]
    },
    {
      "cell_type": "code",
      "source": [
        "import numpy as np\n",
        "\n",
        "py_list = [1,2,3,4,5,6,7,8,9]\n",
        "\n",
        "np_array = np.array([1,2,3,4,5,6,7,8,9]) # assign the array to np_array\n",
        "\n",
        "print(type(py_list))\n",
        "print(type(np_array))\n",
        "\n",
        "py_multi = [[1,2,3],[4,5,6],[7,8,9]]\n",
        "np_multi = np.array(py_multi)"
      ],
      "metadata": {
        "colab": {
          "base_uri": "https://localhost:8080/"
        },
        "id": "nGwL_ecFMfGB",
        "outputId": "cb295370-85bd-4056-ee8f-03f155536dd2"
      },
      "execution_count": 17,
      "outputs": [
        {
          "output_type": "stream",
          "name": "stdout",
          "text": [
            "<class 'list'>\n",
            "<class 'numpy.ndarray'>\n"
          ]
        }
      ]
    },
    {
      "cell_type": "code",
      "source": [
        "print(py_list)\n",
        "print(np_multi)"
      ],
      "metadata": {
        "colab": {
          "base_uri": "https://localhost:8080/"
        },
        "id": "6s1Ph-IjP15x",
        "outputId": "772fa3f8-c59c-4416-a600-ed65e542395a"
      },
      "execution_count": 18,
      "outputs": [
        {
          "output_type": "stream",
          "name": "stdout",
          "text": [
            "[1, 2, 3, 4, 5, 6, 7, 8, 9]\n",
            "[[1 2 3]\n",
            " [4 5 6]\n",
            " [7 8 9]]\n"
          ]
        }
      ]
    },
    {
      "cell_type": "code",
      "source": [
        "print(np_array.ndim)\n",
        "print(np_multi.ndim)"
      ],
      "metadata": {
        "colab": {
          "base_uri": "https://localhost:8080/"
        },
        "id": "Lc2_34gwPzYx",
        "outputId": "82ac4c07-2c87-4563-8d82-f56fcca87035"
      },
      "execution_count": 19,
      "outputs": [
        {
          "output_type": "stream",
          "name": "stdout",
          "text": [
            "1\n",
            "2\n"
          ]
        }
      ]
    },
    {
      "cell_type": "code",
      "source": [
        "print(np_array.shape)\n",
        "print(np_multi.shape)"
      ],
      "metadata": {
        "colab": {
          "base_uri": "https://localhost:8080/"
        },
        "id": "c900xCtyPqdF",
        "outputId": "3c0b833f-d458-4a14-ef9e-295706eafa69"
      },
      "execution_count": 20,
      "outputs": [
        {
          "output_type": "stream",
          "name": "stdout",
          "text": [
            "(9,)\n",
            "(3, 3)\n"
          ]
        }
      ]
    }
  ]
}
